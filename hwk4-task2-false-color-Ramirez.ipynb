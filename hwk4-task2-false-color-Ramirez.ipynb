{
 "cells": [
  {
   "cell_type": "code",
   "execution_count": null,
   "id": "d97705ae-a66d-4b41-8470-20b41a49adbb",
   "metadata": {},
   "outputs": [],
   "source": [
    "# Initialize Otter\n",
    "import otter\n",
    "grader = otter.Notebook(\"hwk4-task2-false-color.ipynb\")"
   ]
  },
  {
   "cell_type": "markdown",
   "id": "98d1c8d3-0d00-4348-938d-58e35cb4d382",
   "metadata": {
    "tags": []
   },
   "source": [
    "# Task 2: Visualizing fire perimeter for the Thomas fire\n",
    "\n",
    "## Instructions\n",
    "\n",
    "- First, update the following cell to have a link to *your* Homework 4 GitHub repository:\n",
    "\n",
    "**UPDATE THIS LINK**\n",
    "https://github.com/YoselynR/eds220-hwk4/tree/main\n",
    "\n",
    "\n",
    "- Review the [complete rubric for this task](https://docs.google.com/document/d/1-Zm731BLVCs1MXHT5R1H9rr6uvcwHnMZQ2q8xkQ_fWM/edit?tab=t.0) before starting.\n",
    "\n",
    "- **Meaningful commits should be made every time you finish a major step.** We'll check your repository and view the commit history.\n",
    "\n",
    "- Comment mindfully in a way that enriches your code. Comments should follow best practices.\n",
    "\n",
    "- **Do not update the top cell with the `otter` import**, this is used internally for grading.\n",
    "\n",
    "- Delete all the comments initially included in this notebook (ex: `# Your code here`).\n",
    "\n",
    "\n",
    "## About the data\n",
    "In this task you will use one datsets:\n",
    "\n",
    "### First dataset: Simplified collection of bands\n",
    "\n",
    "The first dataset contains information a [simplified collection of bands (red, green, blue, near-infrared and shortwave infrared)](https://planetarycomputer.microsoft.com/dataset/landsat-c2-l2). \n",
    "\n"
   ]
  },
  {
   "cell_type": "markdown",
   "id": "ecde728f-27ef-4142-99fd-e01a7d22c91e",
   "metadata": {},
   "source": [
    "## 3. True color image"
   ]
  },
  {
   "cell_type": "markdown",
   "id": "34bb3f1b-76f4-4d8f-8bb0-4f1564d08bb9",
   "metadata": {},
   "source": [
    "## 3a. File path and import\n",
    "Construct a file path to the Landsat data using `os` and import it using `rioxr.open_rasterio()`."
   ]
  },
  {
   "cell_type": "markdown",
   "id": "567af218-26b9-4222-948f-0b6d851ce248",
   "metadata": {},
   "source": [
    "## 3b. Dataset description\n",
    "Explore the data and write a brief summary of the information you obtained from the preliminary information. Your summary should include the a description of the data’s variables and dimensions."
   ]
  },
  {
   "cell_type": "markdown",
   "id": "f7e7ba8a-98ec-42de-be9e-f1eaaa81448e",
   "metadata": {},
   "source": [
    "## 3c. Drop dimension\n",
    "Drop the `band` dimension of the data. HINT: `squeeze()` and `drop_vars()`."
   ]
  },
  {
   "cell_type": "markdown",
   "id": "99e2198f-df7c-4957-a778-90f387906fd3",
   "metadata": {},
   "source": [
    "## 3d. RGB image\n",
    "Without creating any new variables:\n",
    "\n",
    "- select the red, green, and blue variables (in that order) of the `xarray.Dataset` holding the Landsat data,\n",
    "- convert it to a `numpy.array` using the `to_array()` method, and then\n",
    "- use ``.plot.imshow()` to create an RGB image with the data. There will be a warning, that’s ok."
   ]
  },
  {
   "cell_type": "markdown",
   "id": "b153fff9-8b6e-4992-9033-ead04940c69d",
   "metadata": {},
   "source": [
    "## 3e. True color image\n",
    "Adjust the scale used for plotting the bands to get a true color image. HINT: Check the robust parameter. The issue here is the clouds: their RGB values are outliers and cause the other values to be squished when plotting.\n"
   ]
  },
  {
   "cell_type": "markdown",
   "id": "2fcccbf0-e770-4fde-a74f-9227649de3ad",
   "metadata": {},
   "source": [
    "## 3f. Brief explanation\n",
    "In a markdown cell write a brief explanation comparing the ouputs for parts (d) and (e)."
   ]
  },
  {
   "cell_type": "markdown",
   "id": "00920f67-aed8-418f-87c9-0cdfaaad3c85",
   "metadata": {},
   "source": [
    "## 4. False color image\n",
    "Without creating any new variables, create a false color image by plotting the short-wave infrared (swir22), near-infrared, and red variables (in that order)."
   ]
  },
  {
   "cell_type": "markdown",
   "id": "9aceb675-ae67-4ab7-968d-6cff11b0694a",
   "metadata": {},
   "source": [
    "## 5a. Map\n",
    "Create a map showing the shortwave infrared/near-infrared/red false color image together with the Thomas Fire perimeter. Customize it appropriately including, at least, an informative title and legend.\n"
   ]
  },
  {
   "cell_type": "markdown",
   "id": "c17294f1-9d62-4320-93b1-4fb75e4fccd9",
   "metadata": {},
   "source": [
    "## 5b. Figure description\n",
    "Write a figure description for the map including a brief explanation of how false color imagery is being used."
   ]
  }
 ],
 "metadata": {
  "kernelspec": {
   "display_name": "Anaconda 3 (EDS220)",
   "language": "python",
   "name": "eds220-env"
  },
  "language_info": {
   "codemirror_mode": {
    "name": "ipython",
    "version": 3
   },
   "file_extension": ".py",
   "mimetype": "text/x-python",
   "name": "python",
   "nbconvert_exporter": "python",
   "pygments_lexer": "ipython3",
   "version": "3.11.4"
  }
 },
 "nbformat": 4,
 "nbformat_minor": 5
}
