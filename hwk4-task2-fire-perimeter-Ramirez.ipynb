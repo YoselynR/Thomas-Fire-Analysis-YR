{
 "cells": [
  {
   "cell_type": "code",
   "execution_count": null,
   "id": "a8e98d85-747d-45bf-a7c8-5ae1dd0cf22d",
   "metadata": {},
   "outputs": [],
   "source": [
    "# Initialize Otter\n",
    "import otter\n",
    "grader = otter.Notebook(\"hwk4-task2-fire-perimeter.ipynb\")"
   ]
  },
  {
   "cell_type": "markdown",
   "id": "3392f704-08cc-4fa5-ad75-4452d5d40132",
   "metadata": {},
   "source": [
    "# Task 2: Visualizing fire perimeter for the Thomas fire\n",
    "\n",
    "## Instructions\n",
    "\n",
    "- First, update the following cell to have a link to *your* Homework 4 GitHub repository:\n",
    "\n",
    "**UPDATE THIS LINK**\n",
    "https://github.com/YoselynR/eds220-hwk4/tree/main\n",
    "\n",
    "\n",
    "- Review the [complete rubric for this task](https://docs.google.com/document/d/1-Zm731BLVCs1MXHT5R1H9rr6uvcwHnMZQ2q8xkQ_fWM/edit?tab=t.0) before starting.\n",
    "\n",
    "- **Meaningful commits should be made every time you finish a major step.** We'll check your repository and view the commit history.\n",
    "\n",
    "- Comment mindfully in a way that enriches your code. Comments should follow best practices.\n",
    "\n",
    "- **Do not update the top cell with the `otter` import**, this is used internally for grading.\n",
    "\n",
    "- Delete all the comments initially included in this notebook (ex: `# Your code here`).\n",
    "\n",
    "\n",
    "## About the data\n",
    "In this task you will use one datset:\n",
    "\n",
    "### First dataset: Fire perimeter\n",
    "\n",
    "The first dataset is [historical open-access data about fire perimeters in California](https://catalog.data.gov/dataset/california-fire-perimeters-all-b3436) from Data.gov."
   ]
  },
  {
   "cell_type": "markdown",
   "id": "f3d6eea0-e419-4883-a33f-72ce8c8bb443",
   "metadata": {},
   "source": [
    "## 2. Fire perimeter data retrieval and selection"
   ]
  },
  {
   "cell_type": "markdown",
   "id": "6c450389-2db5-45e6-b604-d0c3fb612d12",
   "metadata": {},
   "source": [
    "### Import libraries"
   ]
  },
  {
   "cell_type": "code",
   "execution_count": 11,
   "id": "9b4783da-a0ff-4386-b48d-0089002eeef0",
   "metadata": {
    "tags": []
   },
   "outputs": [],
   "source": [
    "import requests\n",
    "import zipfile\n",
    "import io\n",
    "import os\n",
    "import geopandas as gpd\n",
    "import shutil"
   ]
  },
  {
   "cell_type": "markdown",
   "id": "4c87e930-c5c9-4dcd-b8cd-5128023a5381",
   "metadata": {},
   "source": [
    "### Load in temporary data"
   ]
  },
  {
   "cell_type": "code",
   "execution_count": 12,
   "id": "fa10c7ac-a6d2-4003-b941-79967032f27c",
   "metadata": {
    "tags": []
   },
   "outputs": [
    {
     "name": "stdout",
     "output_type": "stream",
     "text": [
      "Extracted files: ['California_Fire_Perimeters_(all).prj', 'California_Fire_Perimeters_(all).shp.xml', 'California_Fire_Perimeters_(all).cpg', 'California_Fire_Perimeters_(all).shx', 'California_Fire_Perimeters_(all).dbf', 'California_Fire_Perimeters_(all).shp']\n"
     ]
    }
   ],
   "source": [
    "# URL of the ZIP file\n",
    "url = 'https://gis.data.cnra.ca.gov/api/download/v1/items/e3802d2abf8741a187e73a9db49d68fe/shapefile?layers=0'\n",
    "\n",
    "# Extraction directory\n",
    "extraction_dir = \"CA_perimeter_dir\"\n",
    "os.makedirs(extraction_dir, exist_ok=True)\n",
    "\n",
    "# Download the ZIP, extract all files, and print the extracted files\n",
    "with zipfile.ZipFile(io.BytesIO(requests.get(url).content)) as zip_ref:\n",
    "    zip_ref.extractall(extraction_dir)\n",
    "\n",
    "# List and print extracted files\n",
    "print(f\"Extracted files: {os.listdir(extraction_dir)}\")\n",
    "\n",
    "# Load the shapefile into a GeoDataFrame\n",
    "shapefile_base = \"California_Fire_Perimeters_(all)\"  # Base name of the shapefile\n",
    "shapefile_path = os.path.join(extraction_dir, f\"{shapefile_base}.shp\")"
   ]
  },
  {
   "cell_type": "markdown",
   "id": "69b13222-a57b-45c0-b532-dc5b92575b7d",
   "metadata": {},
   "source": [
    "## a. Dataset description\n",
    "Explore the data and write a brief summary of the information you obtained from the preliminary information. Your summary should include the CRS of the data and whether this is projected or geographic."
   ]
  },
  {
   "cell_type": "markdown",
   "id": "794511ad-91f6-4b3a-814d-6b5e2aa9f506",
   "metadata": {},
   "source": [
    "The data has a crs of 3857 or meb mercator which has units in metres. The crs type is projected. The data is a geodataframe with 22,261 entries and its geometry type is a ploygon. The entries correpsond to the fires and the polygon makes snese for mapping. The columns correspond to YEAR_, STATE, AGENCY, UNIT_ID, FIRE_NAME, INC_NUM, ALARM_DATE, CONT_DATE, CAUSE, C_METHOD, OBJECTIVE, GIS_ACRES, COMMENTS, COMPLEX_NA, IRWINID, FIRE_NUM, COMPLEX_ID, DECADES, and geometry. The data exploarion further outputs the datatype of each column along with the non-null count of each column.  "
   ]
  },
  {
   "cell_type": "markdown",
   "id": "69bed642-72a9-4fee-af2a-32aaa0829e32",
   "metadata": {},
   "source": [
    "### Data exploration"
   ]
  },
  {
   "cell_type": "code",
   "execution_count": 13,
   "id": "b2e78f37-9279-4ef9-b376-bba1b4e9b768",
   "metadata": {
    "tags": []
   },
   "outputs": [
    {
     "name": "stderr",
     "output_type": "stream",
     "text": [
      "/Users/yoselyn_ramirez/.local/lib/python3.11/site-packages/pyogrio/raw.py:198: RuntimeWarning: CA_perimeter_dir/California_Fire_Perimeters_(all).shp contains polygon(s) with rings with invalid winding order. Autocorrecting them, but that shapefile should be corrected using ogr2ogr for example.\n",
      "  return ogr_read(\n"
     ]
    },
    {
     "name": "stdout",
     "output_type": "stream",
     "text": [
      "CRS: EPSG:3857\n",
      "Geometry Type: Polygon\n",
      "<class 'geopandas.geodataframe.GeoDataFrame'>\n",
      "RangeIndex: 22261 entries, 0 to 22260\n",
      "Data columns (total 19 columns):\n",
      " #   Column      Non-Null Count  Dtype         \n",
      "---  ------      --------------  -----         \n",
      " 0   YEAR_       22261 non-null  int32         \n",
      " 1   STATE       22261 non-null  object        \n",
      " 2   AGENCY      22208 non-null  object        \n",
      " 3   UNIT_ID     22194 non-null  object        \n",
      " 4   FIRE_NAME   15672 non-null  object        \n",
      " 5   INC_NUM     21286 non-null  object        \n",
      " 6   ALARM_DATE  22261 non-null  datetime64[ms]\n",
      " 7   CONT_DATE   22261 non-null  datetime64[ms]\n",
      " 8   CAUSE       22261 non-null  int32         \n",
      " 9   C_METHOD    22261 non-null  int32         \n",
      " 10  OBJECTIVE   22261 non-null  int32         \n",
      " 11  GIS_ACRES   22261 non-null  float64       \n",
      " 12  COMMENTS    2707 non-null   object        \n",
      " 13  COMPLEX_NA  596 non-null    object        \n",
      " 14  IRWINID     2695 non-null   object        \n",
      " 15  FIRE_NUM    17147 non-null  object        \n",
      " 16  COMPLEX_ID  360 non-null    object        \n",
      " 17  DECADES     22261 non-null  int64         \n",
      " 18  geometry    22261 non-null  geometry      \n",
      "dtypes: datetime64[ms](2), float64(1), geometry(1), int32(4), int64(1), object(10)\n",
      "memory usage: 2.9+ MB\n",
      "None\n",
      "   YEAR_ STATE AGENCY UNIT_ID  FIRE_NAME   INC_NUM ALARM_DATE  CONT_DATE  \\\n",
      "0   2023    CA    CDF     SKU  WHITWORTH  00004808 2023-06-17 2023-06-17   \n",
      "1   2023    CA    LRA     BTU     KAISER  00010225 2023-06-02 2023-06-02   \n",
      "2   2023    CA    CDF     AEU    JACKSON  00017640 2023-07-01 2023-07-02   \n",
      "3   2023    CA    CDF     AEU     CARBON  00018821 2023-07-11 2023-07-11   \n",
      "4   2023    CA    CDF     AEU    LIBERTY  00018876 2023-07-11 2023-07-12   \n",
      "\n",
      "   CAUSE  C_METHOD  OBJECTIVE  GIS_ACRES COMMENTS COMPLEX_NA  \\\n",
      "0      5         1          1    5.72913     None       None   \n",
      "1      5         1          1   13.60240     None       None   \n",
      "2      2         1          1   27.81450     None       None   \n",
      "3      9         1          1   58.76020     None       None   \n",
      "4     14         1          1   70.97900     None       None   \n",
      "\n",
      "                                  IRWINID FIRE_NUM COMPLEX_ID  DECADES  \\\n",
      "0  {7985848C-0AC2-4BA4-8F0E-29F778652E61}     None       None     2020   \n",
      "1  {43EBCC88-B3AC-48EB-8EF5-417FE0939CCF}     None       None     2020   \n",
      "2  {B64E1355-BF1D-441A-95D0-BC1FBB93483B}     None       None     2020   \n",
      "3  {CB41DB0A-E4B1-489D-A4EA-738F2CD6DB3B}     None       None     2020   \n",
      "4  {F83F70A4-07A7-40B8-BD51-10CCC1C30D63}     None       None     2020   \n",
      "\n",
      "                                            geometry  \n",
      "0  POLYGON ((-13682443 5091132.739, -13682445.825...  \n",
      "1  POLYGON ((-13576727.142 4841226.161, -13576726...  \n",
      "2  POLYGON ((-13459243 4621236, -13458968 4621453...  \n",
      "3  POLYGON ((-13468077 4642260, -13467975 4642332...  \n",
      "4  POLYGON ((-13468418 4614853, -13468428 4614801...  \n",
      "\n",
      "CRS Type: Projected\n"
     ]
    }
   ],
   "source": [
    "# Read the shapefile into a GeoDataFrame and print info\n",
    "gdf = gpd.read_file(shapefile_path)\n",
    "# Save crs and geometry type\n",
    "crs = gdf.crs\n",
    "geometry_type = gdf.geometry.type.iloc[0]\n",
    "# Print crs and geometry type\n",
    "print(f\"CRS: {crs}\")\n",
    "print(f\"Geometry Type: {geometry_type}\")\n",
    "# Print info and head\n",
    "print(gdf.info())\n",
    "print(gdf.head())\n",
    "# If else statement to print whether projected or geographic\n",
    "if crs.is_geographic:\n",
    "    crs_type = \"Geographic (using degrees)\"\n",
    "else:\n",
    "    crs_type = \"Projected\"\n",
    "print(f\"\\nCRS Type: {crs_type}\")"
   ]
  },
  {
   "cell_type": "code",
   "execution_count": 14,
   "id": "74862d2a-d8be-41a5-8aa8-76737de2ae08",
   "metadata": {
    "tags": []
   },
   "outputs": [
    {
     "name": "stdout",
     "output_type": "stream",
     "text": [
      "['WHITWORTH' 'KAISER' 'JACKSON' ... 'BALD HILL' 'FREITAS RANCH'\n",
      " 'GOLF CLUB']\n"
     ]
    }
   ],
   "source": [
    "# Look at all fire names with .tolist() but to avoid the huge output I removed it\n",
    "unique_fire_names = gdf['FIRE_NAME'].unique()\n",
    "print(unique_fire_names)"
   ]
  },
  {
   "cell_type": "markdown",
   "id": "f31fddf0-2193-4eb8-8250-09173191943d",
   "metadata": {},
   "source": [
    "## b. Fire perimeter selection\n",
    "From your fire perimeter data, select the Thomas Fire boundary. The fire occurred in 2017."
   ]
  },
  {
   "cell_type": "code",
   "execution_count": 15,
   "id": "9767c03d-1113-4d5e-839c-526684058811",
   "metadata": {
    "tags": []
   },
   "outputs": [
    {
     "name": "stdout",
     "output_type": "stream",
     "text": [
      "Thomas fire is present in the dataset.\n"
     ]
    }
   ],
   "source": [
    "# Look for Thomas fire in FIRE_NAME column with if else statement because my eyes could not read through the list\n",
    "if \"THOMAS\" in gdf['FIRE_NAME'].unique():\n",
    "    print(\"Thomas fire is present in the dataset.\")\n",
    "else:\n",
    "    print(\"Thomas fire is not present in the dataset.\")"
   ]
  },
  {
   "cell_type": "code",
   "execution_count": 16,
   "id": "f8e49fda-ce4b-435f-baa9-6e53480844fd",
   "metadata": {
    "tags": []
   },
   "outputs": [],
   "source": [
    "# Select Thomas fire boundary in 2017\n",
    "thomas_fire_gdf = gdf[(gdf['FIRE_NAME'] == \"THOMAS\") & (gdf['YEAR_'] == 2017)]"
   ]
  },
  {
   "cell_type": "markdown",
   "id": "7ed8f5c5-0798-4952-b2bd-2f5d0bc5598c",
   "metadata": {},
   "source": [
    "## c. File management\n",
    "Create a `data/` directory inside your `eds220-hwk4` directory. Save only the 2017 Thomas Fire boundary as a geospatial file in the format of your choosing. The file should go into the `data/` directory in your repository.\n"
   ]
  },
  {
   "cell_type": "code",
   "execution_count": 19,
   "id": "4e111289-26eb-4418-96fd-6b41bdef60e8",
   "metadata": {
    "tags": []
   },
   "outputs": [
    {
     "name": "stdout",
     "output_type": "stream",
     "text": [
      "Shapefile for Thomas fire saved at: data/Thomas_fire_perimeter.shp\n"
     ]
    },
    {
     "name": "stderr",
     "output_type": "stream",
     "text": [
      "/Users/yoselyn_ramirez/.local/lib/python3.11/site-packages/pyogrio/raw.py:723: RuntimeWarning: Field ALARM_DATE create as date field, though DateTime requested.\n",
      "  ogr_write(\n",
      "/Users/yoselyn_ramirez/.local/lib/python3.11/site-packages/pyogrio/raw.py:723: RuntimeWarning: Field CONT_DATE create as date field, though DateTime requested.\n",
      "  ogr_write(\n"
     ]
    }
   ],
   "source": [
    "# Shape file path to data folder, but create folder if it doesn't exist\n",
    "shapefile_output = os.path.join(\"data\", \"Thomas_fire_perimeter.shp\")\n",
    "os.makedirs(\"data\", exist_ok=True)\n",
    "\n",
    "# Save the shapefile if not empty, and delete other files\n",
    "if not thomas_fire_gdf.empty:\n",
    "    thomas_fire_gdf.to_file(shapefile_output)\n",
    "    print(f\"Shapefile for Thomas fire saved at: {shapefile_output}\")"
   ]
  },
  {
   "cell_type": "code",
   "execution_count": 18,
   "id": "53662184-e0fa-4715-b350-7879bb9d9517",
   "metadata": {
    "tags": []
   },
   "outputs": [
    {
     "name": "stdout",
     "output_type": "stream",
     "text": [
      "Extraction directory 'CA_perimeter_dir' has been deleted.\n"
     ]
    }
   ],
   "source": [
    "# Delete directory file that contains all CA fires\n",
    "shutil.rmtree(extraction_dir)\n",
    "print(f\"Extraction directory '{extraction_dir}' has been deleted.\")"
   ]
  },
  {
   "cell_type": "markdown",
   "id": "bfa8d40f-d7b8-44a9-a335-f625e44e86f9",
   "metadata": {},
   "source": [
    "## d. Format explanation\n",
    "Briefly explain your reasoning for selecting that specific file format."
   ]
  },
  {
   "cell_type": "markdown",
   "id": "f9297d7a-ba48-4103-a82b-74c4cd6b1b4c",
   "metadata": {},
   "source": [
    "The .shp is the one that has the boundary parameters for the Thomas fire that can help visualize the area of the fire. The geometries are used in the next notebook on top of false color imagery."
   ]
  }
 ],
 "metadata": {
  "kernelspec": {
   "display_name": "Anaconda 3 (EDS220)",
   "language": "python",
   "name": "eds220-env"
  },
  "language_info": {
   "codemirror_mode": {
    "name": "ipython",
    "version": 3
   },
   "file_extension": ".py",
   "mimetype": "text/x-python",
   "name": "python",
   "nbconvert_exporter": "python",
   "pygments_lexer": "ipython3",
   "version": "3.11.4"
  }
 },
 "nbformat": 4,
 "nbformat_minor": 5
}
