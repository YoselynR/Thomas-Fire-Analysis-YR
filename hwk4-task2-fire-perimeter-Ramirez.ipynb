{
 "cells": [
  {
   "cell_type": "markdown",
   "id": "aa722b50-8005-450b-bcba-a0ea6fc9c149",
   "metadata": {},
   "source": [
    "Author: Yos Ramirez"
   ]
  },
  {
   "cell_type": "markdown",
   "id": "3392f704-08cc-4fa5-ad75-4452d5d40132",
   "metadata": {},
   "source": [
    "# Fire perimeter data retrieval and selection (Thomas Fire)\n",
    "\n",
    "## About the notebook\n",
    "\n",
    "**Link to *my* Thomas Fire Analysis GitHub repository:**\n",
    "\n",
    "https://github.com/YoselynR/Thomas-Fire-Analysis-YR/tree/main\n",
    "\n",
    "### Purpose\n",
    "\n",
    "The purpose of this notebook is to save a shapefile for the Thomas Fire perimeter. The Thomas fire perimeter will be selected from fire data avaiable for all of California.\n",
    "\n",
    "### Highlights\n",
    "- Data Exploration: The notebook includes a basic exploration of the dataset, printing key metadata like the coordinate reference system (CRS), geometry type, and column information, which helps verify the data quality and prepare it for analysis.\n",
    "- Data File Management: The script downloads the shapefile from a zip archive, extracts it, and manages file storage by creating and cleaning up directories as necessary.\n",
    "- Fire Perimeter Selection: The dataset contains fire perimeter data for all of California. The notebook filters the data to isolate the perimeter of the Thomas Fire, which occurred in 2017.\n",
    "- Shapefile Export: After selecting the relevant fire perimeter data, the Thomas Fire boundary is saved as a new shapefile (.shp) for future use, such as in spatial analysis or mapping.\n",
    "\n",
    "\n",
    "## About the data\n",
    "In this task you will use one dataset: which contains data for fires in all of California. \n",
    "\n",
    "### First dataset: Fire perimeter\n",
    "\n",
    "The first dataset is [historical open-access data about fire perimeters in California](https://catalog.data.gov/dataset/california-fire-perimeters-all-b3436) from Data.gov.\n",
    "\n",
    "U.S. Government. (n.d.). California fire perimeters (ALL) [Data set]. Data.gov. Retrieved November 23, 2024, from https://catalog.data.gov/dataset/california-fire-perimeters-all-b3436"
   ]
  },
  {
   "cell_type": "markdown",
   "id": "f3d6eea0-e419-4883-a33f-72ce8c8bb443",
   "metadata": {},
   "source": [
    "## Fire perimeter data retrieval and selection"
   ]
  },
  {
   "cell_type": "markdown",
   "id": "6c450389-2db5-45e6-b604-d0c3fb612d12",
   "metadata": {},
   "source": [
    "### Import libraries"
   ]
  },
  {
   "cell_type": "code",
   "execution_count": null,
   "id": "9b4783da-a0ff-4386-b48d-0089002eeef0",
   "metadata": {
    "tags": []
   },
   "outputs": [],
   "source": [
    "import requests\n",
    "import zipfile\n",
    "import io\n",
    "import os\n",
    "import geopandas as gpd\n",
    "import shutil"
   ]
  },
  {
   "cell_type": "markdown",
   "id": "4c87e930-c5c9-4dcd-b8cd-5128023a5381",
   "metadata": {},
   "source": [
    "### Load in temporary data"
   ]
  },
  {
   "cell_type": "code",
   "execution_count": null,
   "id": "fa10c7ac-a6d2-4003-b941-79967032f27c",
   "metadata": {
    "tags": []
   },
   "outputs": [],
   "source": [
    "# URL of the ZIP file\n",
    "url = 'https://gis.data.cnra.ca.gov/api/download/v1/items/e3802d2abf8741a187e73a9db49d68fe/shapefile?layers=0'\n",
    "\n",
    "# Extraction directory\n",
    "extraction_dir = \"CA_perimeter_dir\"\n",
    "os.makedirs(extraction_dir, exist_ok=True)\n",
    "\n",
    "# Download the ZIP, extract all files, and print the extracted files\n",
    "with zipfile.ZipFile(io.BytesIO(requests.get(url).content)) as zip_ref:\n",
    "    zip_ref.extractall(extraction_dir)\n",
    "\n",
    "# List and print extracted files\n",
    "print(f\"Extracted files: {os.listdir(extraction_dir)}\")\n",
    "\n",
    "# Load the shapefile into a GeoDataFrame\n",
    "shapefile_base = \"California_Fire_Perimeters_(all)\"  # Base name of the shapefile\n",
    "shapefile_path = os.path.join(extraction_dir, f\"{shapefile_base}.shp\")"
   ]
  },
  {
   "cell_type": "markdown",
   "id": "69b13222-a57b-45c0-b532-dc5b92575b7d",
   "metadata": {},
   "source": [
    "### Dataset description\n",
    "Data exploration and a brief summary of the information I obtained from the preliminary information. Summary includes the CRS of the data and whether this is projected or geographic."
   ]
  },
  {
   "cell_type": "markdown",
   "id": "794511ad-91f6-4b3a-814d-6b5e2aa9f506",
   "metadata": {},
   "source": [
    "The data has a crs of 3857 or meb mercator which has units in metres. The crs type is projected. The data is a geodataframe with 22,261 entries and its geometry type is a ploygon. The entries correpsond to the fires and the polygon makes snese for mapping. The columns correspond to YEAR_, STATE, AGENCY, UNIT_ID, FIRE_NAME, INC_NUM, ALARM_DATE, CONT_DATE, CAUSE, C_METHOD, OBJECTIVE, GIS_ACRES, COMMENTS, COMPLEX_NA, IRWINID, FIRE_NUM, COMPLEX_ID, DECADES, and geometry. The data exploarion further outputs the datatype of each column along with the non-null count of each column.  "
   ]
  },
  {
   "cell_type": "markdown",
   "id": "69bed642-72a9-4fee-af2a-32aaa0829e32",
   "metadata": {},
   "source": [
    "### Data exploration"
   ]
  },
  {
   "cell_type": "code",
   "execution_count": null,
   "id": "b2e78f37-9279-4ef9-b376-bba1b4e9b768",
   "metadata": {
    "tags": []
   },
   "outputs": [],
   "source": [
    "# Read the shapefile into a GeoDataFrame and print info\n",
    "gdf = gpd.read_file(shapefile_path)\n",
    "# Save crs and geometry type\n",
    "crs = gdf.crs\n",
    "geometry_type = gdf.geometry.type.iloc[0]\n",
    "# Print crs and geometry type\n",
    "print(f\"CRS: {crs}\")\n",
    "print(f\"Geometry Type: {geometry_type}\")\n",
    "# Print info and head\n",
    "print(gdf.info())\n",
    "print(gdf.head())\n",
    "# If else statement to print whether projected or geographic\n",
    "if crs.is_geographic:\n",
    "    crs_type = \"Geographic (using degrees)\"\n",
    "else:\n",
    "    crs_type = \"Projected\"\n",
    "print(f\"\\nCRS Type: {crs_type}\")"
   ]
  },
  {
   "cell_type": "code",
   "execution_count": null,
   "id": "74862d2a-d8be-41a5-8aa8-76737de2ae08",
   "metadata": {
    "tags": []
   },
   "outputs": [],
   "source": [
    "# Look at all fire names with .tolist() but to avoid the huge output I removed it\n",
    "unique_fire_names = gdf['FIRE_NAME'].unique()\n",
    "print(unique_fire_names)"
   ]
  },
  {
   "cell_type": "markdown",
   "id": "f31fddf0-2193-4eb8-8250-09173191943d",
   "metadata": {},
   "source": [
    "### Fire perimeter selection\n",
    "Selecting the Thomas Fire boundary that occurred in 2017."
   ]
  },
  {
   "cell_type": "code",
   "execution_count": null,
   "id": "9767c03d-1113-4d5e-839c-526684058811",
   "metadata": {
    "tags": []
   },
   "outputs": [],
   "source": [
    "# Look for Thomas fire in FIRE_NAME column with if else statement because my eyes could not read through the list\n",
    "if \"THOMAS\" in gdf['FIRE_NAME'].unique():\n",
    "    print(\"Thomas fire is present in the dataset.\")\n",
    "else:\n",
    "    print(\"Thomas fire is not present in the dataset.\")"
   ]
  },
  {
   "cell_type": "code",
   "execution_count": null,
   "id": "f8e49fda-ce4b-435f-baa9-6e53480844fd",
   "metadata": {
    "tags": []
   },
   "outputs": [],
   "source": [
    "# Select Thomas fire boundary in 2017\n",
    "thomas_fire_gdf = gdf[(gdf['FIRE_NAME'] == \"THOMAS\") & (gdf['YEAR_'] == 2017)]"
   ]
  },
  {
   "cell_type": "markdown",
   "id": "7ed8f5c5-0798-4952-b2bd-2f5d0bc5598c",
   "metadata": {},
   "source": [
    "### File management\n",
    "Creating a `data/` directory inside my `eds220-hwk4` directory. Saving only the 2017 Thomas Fire boundary as a geospatial file in the shapefile format. The file is in the `data/` directory in my repository.\n"
   ]
  },
  {
   "cell_type": "code",
   "execution_count": null,
   "id": "4e111289-26eb-4418-96fd-6b41bdef60e8",
   "metadata": {
    "tags": []
   },
   "outputs": [],
   "source": [
    "# Shape file path to data folder, but create folder if it doesn't exist\n",
    "shapefile_output = os.path.join(\"data\", \"Thomas_fire_perimeter.shp\")\n",
    "os.makedirs(\"data\", exist_ok=True)\n",
    "\n",
    "# Save the shapefile if not empty, and delete other files\n",
    "if not thomas_fire_gdf.empty:\n",
    "    thomas_fire_gdf.to_file(shapefile_output)\n",
    "    print(f\"Shapefile for Thomas fire saved at: {shapefile_output}\")"
   ]
  },
  {
   "cell_type": "code",
   "execution_count": null,
   "id": "53662184-e0fa-4715-b350-7879bb9d9517",
   "metadata": {
    "tags": []
   },
   "outputs": [],
   "source": [
    "# Delete directory file that contains all CA fires\n",
    "shutil.rmtree(extraction_dir)\n",
    "print(f\"Extraction directory '{extraction_dir}' has been deleted.\")"
   ]
  },
  {
   "cell_type": "markdown",
   "id": "bfa8d40f-d7b8-44a9-a335-f625e44e86f9",
   "metadata": {},
   "source": [
    "### Format explanation\n",
    "Briefly explaining my reasoning for selecting shapefile format."
   ]
  },
  {
   "cell_type": "markdown",
   "id": "f9297d7a-ba48-4103-a82b-74c4cd6b1b4c",
   "metadata": {},
   "source": [
    "The .shp is the one that has the boundary parameters for the Thomas fire that can help visualize the area of the fire. The geometries are used in the next notebook on top of false color imagery."
   ]
  },
  {
   "cell_type": "markdown",
   "id": "fbd0602a-cb69-42c9-b0c6-66b18d151024",
   "metadata": {},
   "source": [
    "#### References \n",
    "\n",
    "Requests Software Foundation. (n.d.). Requests: HTTP for humans. Requests. Retrieved from https://requests.readthedocs.io\n",
    "\n",
    "Python Software Foundation. (n.d.). zipfile — Zip archive reading and writing. In Python Standard Library. Retrieved from https://docs.python.org/3/library/zipfile.html\n",
    "\n",
    "Python Software Foundation. (n.d.). io — Core tools for working with streams. In Python Standard Library. Retrieved from https://docs.python.org/3/library/io.html\n",
    "\n",
    "Python Software Foundation. (n.d.). os — Miscellaneous operating system interfaces. In Python Standard Library. Retrieved from https://docs.python.org/3/library/os.html\n",
    "\n",
    "GeoPandas Development Team. (2024). GeoPandas: Python tools for geographic data. GeoPandas. Retrieved from https://geopandas.org\n",
    "\n",
    "Python Software Foundation. (n.d.). shutil — High-level file operations. In Python Standard Library. Retrieved from https://docs.python.org/3/library/shutil.html"
   ]
  }
 ],
 "metadata": {
  "kernelspec": {
   "display_name": "Anaconda 3 (EDS220)",
   "language": "python",
   "name": "eds220-env"
  },
  "language_info": {
   "codemirror_mode": {
    "name": "ipython",
    "version": 3
   },
   "file_extension": ".py",
   "mimetype": "text/x-python",
   "name": "python",
   "nbconvert_exporter": "python",
   "pygments_lexer": "ipython3",
   "version": "3.11.4"
  }
 },
 "nbformat": 4,
 "nbformat_minor": 5
}
