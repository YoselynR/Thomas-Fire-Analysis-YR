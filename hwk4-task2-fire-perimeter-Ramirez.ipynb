{
 "cells": [
  {
   "cell_type": "code",
   "execution_count": null,
   "id": "a8e98d85-747d-45bf-a7c8-5ae1dd0cf22d",
   "metadata": {},
   "outputs": [],
   "source": [
    "# Initialize Otter\n",
    "import otter\n",
    "grader = otter.Notebook(\"hwk4-task2-fire-perimeter.ipynb\")"
   ]
  },
  {
   "cell_type": "markdown",
   "id": "3392f704-08cc-4fa5-ad75-4452d5d40132",
   "metadata": {},
   "source": [
    "# Task 2: Visualizing fire perimeter for the Thomas fire\n",
    "\n",
    "## Instructions\n",
    "\n",
    "- First, update the following cell to have a link to *your* Homework 4 GitHub repository:\n",
    "\n",
    "**UPDATE THIS LINK**\n",
    "https://github.com/YoselynR/eds220-hwk4/tree/main\n",
    "\n",
    "\n",
    "- Review the [complete rubric for this task](https://docs.google.com/document/d/1-Zm731BLVCs1MXHT5R1H9rr6uvcwHnMZQ2q8xkQ_fWM/edit?tab=t.0) before starting.\n",
    "\n",
    "- **Meaningful commits should be made every time you finish a major step.** We'll check your repository and view the commit history.\n",
    "\n",
    "- Comment mindfully in a way that enriches your code. Comments should follow best practices.\n",
    "\n",
    "- **Do not update the top cell with the `otter` import**, this is used internally for grading.\n",
    "\n",
    "- Delete all the comments initially included in this notebook (ex: `# Your code here`).\n",
    "\n",
    "\n",
    "## About the data\n",
    "In this task you will use one datset:\n",
    "\n",
    "### First dataset: Fire perimeter\n",
    "\n",
    "The first dataset is [historical open-access data about fire perimeters in California](https://catalog.data.gov/dataset/california-fire-perimeters-all-b3436) from Data.gov."
   ]
  },
  {
   "cell_type": "markdown",
   "id": "69b13222-a57b-45c0-b532-dc5b92575b7d",
   "metadata": {},
   "source": [
    "## a. Dataset description\n",
    "Explore the data and write a brief summary of the information you obtained from the preliminary information. Your summary should include the CRS of the data and whether this is projected or geographic."
   ]
  },
  {
   "cell_type": "markdown",
   "id": "f31fddf0-2193-4eb8-8250-09173191943d",
   "metadata": {},
   "source": [
    "## b. Fire perimeter selection\n",
    "From your fire perimeter data, select the Thomas Fire boundary. The fire occurred in 2017."
   ]
  },
  {
   "cell_type": "markdown",
   "id": "7ed8f5c5-0798-4952-b2bd-2f5d0bc5598c",
   "metadata": {},
   "source": [
    "## c. File management\n",
    "Create a `data/` directory inside your `eds220-hwk4` directory. Save only the 2017 Thomas Fire boundary as a geospatial file in the format of your choosing. The file should go into the `data/` directory in your repository.\n"
   ]
  },
  {
   "cell_type": "markdown",
   "id": "bfa8d40f-d7b8-44a9-a335-f625e44e86f9",
   "metadata": {},
   "source": [
    "## d. Format explanation\n",
    "Briefly explain your reasoning for selecting that specific file format."
   ]
  }
 ],
 "metadata": {
  "kernelspec": {
   "display_name": "Anaconda 3 (EDS220)",
   "language": "python",
   "name": "eds220-env"
  },
  "language_info": {
   "codemirror_mode": {
    "name": "ipython",
    "version": 3
   },
   "file_extension": ".py",
   "mimetype": "text/x-python",
   "name": "python",
   "nbconvert_exporter": "python",
   "pygments_lexer": "ipython3",
   "version": "3.11.4"
  }
 },
 "nbformat": 4,
 "nbformat_minor": 5
}
